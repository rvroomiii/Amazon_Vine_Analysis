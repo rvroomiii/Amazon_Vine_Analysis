{
  "nbformat": 4,
  "nbformat_minor": 0,
  "metadata": {
    "colab": {
      "provenance": [],
      "authorship_tag": "ABX9TyO70sSOZmZx7gJKKSfxN8hD"
    },
    "kernelspec": {
      "name": "python3",
      "display_name": "Python 3"
    },
    "language_info": {
      "name": "python"
    }
  },
  "cells": [
    {
      "cell_type": "code",
      "execution_count": 1,
      "metadata": {
        "colab": {
          "base_uri": "https://localhost:8080/"
        },
        "id": "zoi5MlJTvVg2",
        "outputId": "0d06af53-0be3-44be-f5db-7961b8f32443"
      },
      "outputs": [
        {
          "output_type": "stream",
          "name": "stdout",
          "text": [
            "\r0% [Working]\r            \rGet:1 https://cloud.r-project.org/bin/linux/ubuntu focal-cran40/ InRelease [3,622 B]\n",
            "\r0% [Connecting to archive.ubuntu.com] [Connecting to security.ubuntu.com (185.1\r0% [Connecting to archive.ubuntu.com] [Connecting to security.ubuntu.com (185.1\r                                                                               \rIgn:2 https://developer.download.nvidia.com/compute/machine-learning/repos/ubuntu2004/x86_64  InRelease\n",
            "\r0% [Connecting to archive.ubuntu.com (91.189.91.39)] [Waiting for headers] [Wai\r                                                                               \rGet:3 https://developer.download.nvidia.com/compute/cuda/repos/ubuntu2004/x86_64  InRelease [1,581 B]\n",
            "Hit:4 https://developer.download.nvidia.com/compute/machine-learning/repos/ubuntu2004/x86_64  Release\n",
            "Hit:5 http://archive.ubuntu.com/ubuntu focal InRelease\n",
            "Hit:6 http://ppa.launchpad.net/c2d4u.team/c2d4u4.0+/ubuntu focal InRelease\n",
            "Get:7 http://security.ubuntu.com/ubuntu focal-security InRelease [114 kB]\n",
            "Get:8 http://archive.ubuntu.com/ubuntu focal-updates InRelease [114 kB]\n",
            "Hit:9 http://ppa.launchpad.net/cran/libgit2/ubuntu focal InRelease\n",
            "Get:10 http://archive.ubuntu.com/ubuntu focal-backports InRelease [108 kB]\n",
            "Get:11 http://ppa.launchpad.net/deadsnakes/ppa/ubuntu focal InRelease [18.1 kB]\n",
            "Get:12 https://developer.download.nvidia.com/compute/cuda/repos/ubuntu2004/x86_64  Packages [871 kB]\n",
            "Hit:14 http://ppa.launchpad.net/graphics-drivers/ppa/ubuntu focal InRelease\n",
            "Get:15 http://archive.ubuntu.com/ubuntu focal-updates/restricted amd64 Packages [2,047 kB]\n",
            "Get:16 http://archive.ubuntu.com/ubuntu focal-updates/main amd64 Packages [2,950 kB]\n",
            "Get:17 http://archive.ubuntu.com/ubuntu focal-updates/universe amd64 Packages [1,295 kB]\n",
            "Get:18 http://security.ubuntu.com/ubuntu focal-security/main amd64 Packages [2,476 kB]\n",
            "Get:19 http://ppa.launchpad.net/deadsnakes/ppa/ubuntu focal/main amd64 Packages [29.5 kB]\n",
            "Get:20 http://security.ubuntu.com/ubuntu focal-security/universe amd64 Packages [993 kB]\n",
            "Get:21 http://security.ubuntu.com/ubuntu focal-security/restricted amd64 Packages [1,920 kB]\n",
            "Fetched 12.9 MB in 4s (3,151 kB/s)\n",
            "Reading package lists... Done\n"
          ]
        }
      ],
      "source": [
        "import os\n",
        "# Find the latest version of spark 3.0  from http://www.apache.org/dist/spark/ and enter as the spark version\n",
        "# For example:\n",
        "# spark_version = 'spark-3.0.3'\n",
        "#spark-3.3.1-bin-hadoop3.tgz \n",
        "spark_version = 'spark-3.3.1'\n",
        "os.environ['SPARK_VERSION']=spark_version\n",
        "\n",
        "# Install Spark and Java\n",
        "!apt-get update\n",
        "!apt-get install openjdk-11-jdk-headless -qq > /dev/null\n",
        "!wget -q http://www.apache.org/dist/spark/$SPARK_VERSION/$SPARK_VERSION-bin-hadoop3.tgz\n",
        "!tar xf $SPARK_VERSION-bin-hadoop3.tgz\n",
        "!pip install -q findspark\n",
        "\n",
        "# Set Environment Variables\n",
        "import os\n",
        "os.environ[\"JAVA_HOME\"] = \"/usr/lib/jvm/java-11-openjdk-amd64\"\n",
        "os.environ[\"SPARK_HOME\"] = f\"/content/{spark_version}-bin-hadoop3\"\n",
        "\n",
        "# Start a SparkSession\n",
        "import findspark\n",
        "findspark.init()"
      ]
    },
    {
      "cell_type": "code",
      "source": [
        "# Download the Postgres driver that will allow Spark to interact with Postgres.\n",
        "!wget https://jdbc.postgresql.org/download/postgresql-42.2.16.jar"
      ],
      "metadata": {
        "colab": {
          "base_uri": "https://localhost:8080/"
        },
        "id": "j1SV2RDNvcqN",
        "outputId": "c834eb3f-9705-4e86-f302-e8289e47100d"
      },
      "execution_count": 2,
      "outputs": [
        {
          "output_type": "stream",
          "name": "stdout",
          "text": [
            "--2023-02-09 15:17:43--  https://jdbc.postgresql.org/download/postgresql-42.2.16.jar\n",
            "Resolving jdbc.postgresql.org (jdbc.postgresql.org)... 72.32.157.228, 2001:4800:3e1:1::228\n",
            "Connecting to jdbc.postgresql.org (jdbc.postgresql.org)|72.32.157.228|:443... connected.\n",
            "HTTP request sent, awaiting response... 200 OK\n",
            "Length: 1002883 (979K) [application/java-archive]\n",
            "Saving to: ‘postgresql-42.2.16.jar’\n",
            "\n",
            "postgresql-42.2.16. 100%[===================>] 979.38K  4.89MB/s    in 0.2s    \n",
            "\n",
            "2023-02-09 15:17:44 (4.89 MB/s) - ‘postgresql-42.2.16.jar’ saved [1002883/1002883]\n",
            "\n"
          ]
        }
      ]
    },
    {
      "cell_type": "code",
      "source": [
        "from pyspark.sql import SparkSession\n",
        "spark = SparkSession.builder.appName(\"M17-Amazon-Challenge\").config(\"spark.driver.extraClassPath\",\"/content/postgresql-42.2.16.jar\").getOrCreate()"
      ],
      "metadata": {
        "id": "dP_GbM_WvgL_"
      },
      "execution_count": 3,
      "outputs": []
    },
    {
      "cell_type": "code",
      "source": [
        "from pyspark import SparkFiles\n",
        "url = \"https://s3.amazonaws.com/amazon-reviews-pds/tsv/amazon_reviews_us_Tools_v1_00.tsv.gz\"\n",
        "spark.sparkContext.addFile(url)\n",
        "df = spark.read.option(\"encoding\", \"UTF-8\").csv(SparkFiles.get(\"\"), sep=\"\\t\", header=True, inferSchema=True)\n",
        "df.show()"
      ],
      "metadata": {
        "colab": {
          "base_uri": "https://localhost:8080/"
        },
        "id": "FT7T3X-2vlNU",
        "outputId": "23bfafdc-2d7d-455a-ba37-e99642e1820f"
      },
      "execution_count": 4,
      "outputs": [
        {
          "output_type": "stream",
          "name": "stdout",
          "text": [
            "+-----------+-----------+--------------+----------+--------------+--------------------+----------------+-----------+-------------+-----------+----+-----------------+--------------------+--------------------+-------------------+\n",
            "|marketplace|customer_id|     review_id|product_id|product_parent|       product_title|product_category|star_rating|helpful_votes|total_votes|vine|verified_purchase|     review_headline|         review_body|        review_date|\n",
            "+-----------+-----------+--------------+----------+--------------+--------------------+----------------+-----------+-------------+-----------+----+-----------------+--------------------+--------------------+-------------------+\n",
            "|         US|   15785389|R2UM5QMHBHC90Q|B00H5U9ZD6|     115362950|WallPeg 12 sq ft ...|           Tools|          5|            0|          0|   N|                Y|Great organizer, ...|Very nice. Will o...|2015-08-31 00:00:00|\n",
            "|         US|   47910848|  RF0D1LEIF6L7|B001TJGCS0|     570955425|Nite Ize Nite Daw...|           Tools|          4|            0|          0|   N|                Y|Like it, but the ...|Like it, but the ...|2015-08-31 00:00:00|\n",
            "|         US|   36328996|  RM6YKIWQVNSY|B000NIK8JW|     128843593|Stanley 84-058 4 ...|           Tools|          1|            6|          6|   N|                Y|        poor quality|We were excited t...|2015-08-31 00:00:00|\n",
            "|         US|   51785809|R1RL3L68ASPS36|B008ZYRGUA|     407828107|Powerextra 14.4V ...|           Tools|          4|            0|          0|   N|                Y|          Four Stars|Quick delivery. P...|2015-08-31 00:00:00|\n",
            "|         US|   40757491|R1U4XFBFAG34CY|B00K5CA0GC|     490746675|Waterproof Invisi...|           Tools|          5|            0|          0|   N|                Y|          Five Stars|Quality waterproo...|2015-08-31 00:00:00|\n",
            "|         US|   35544833|R3KFIK8P0I91PL|B00AIJAA94|     148352067|Crime Scene Do No...|           Tools|          5|            0|          0|   N|                Y|Excellent Decorat...|Ordered for my hu...|2015-08-31 00:00:00|\n",
            "|         US|   16474909| RENOAY76PPK1O|B00JKEI6K8|     331801084|Aweek® 2 Pcs Bicy...|           Tools|          5|            0|          0|   N|                Y|          Five Stars|GREAT SELLER PROD...|2015-08-31 00:00:00|\n",
            "|         US|   22601598| RINV884I0NL5V|B00AGCHVS6|     471514859|Ryobi P102 Genuin...|           Tools|          1|            0|          0|   N|                Y|Worked great for ...|My battery has di...|2015-08-31 00:00:00|\n",
            "|         US|   16129808| R5KJH6CXZH2PX|B002S0O7U4|     162253576|Wiha 66995 6-Piec...|           Tools|          5|            0|          0|   N|                Y|       Great quality|Great product at ...|2015-08-31 00:00:00|\n",
            "|         US|   24382335| RO69JF6QWD0W1|B0084YHXMW|      69530650|TOMTOP LED Submar...|           Tools|          5|            0|          0|   N|                Y|          Five Stars|           Excellent|2015-08-31 00:00:00|\n",
            "|         US|   49796324|R3L9NQBH3FI55C|B00MLSS1SW|     916693555|Black & Decker BD...|           Tools|          4|            1|          1|   N|                Y|Really worked great!|This little sande...|2015-08-31 00:00:00|\n",
            "|         US|   33289687| R4YH95YPHVU0C|B00D4WLS2A|      39333316|Crain 126 Staple ...|           Tools|          5|            0|          0|   N|                Y|         LOVE IT!!!!|This is the most ...|2015-08-31 00:00:00|\n",
            "|         US|   10916386|R10M1WWDDQBGG2|B00JGCDV5Y|     550596607|Diamond Semi Roun...|           Tools|          2|            0|          0|   N|                Y|I needed to cut s...|I needed to cut s...|2015-08-31 00:00:00|\n",
            "|         US|   34071500| RV3KWQBTNIO62|B00N0PS3YM|     735538025|It Mall 9 LED 375...|           Tools|          5|            1|          1|   N|                Y|   Works pretty well|Lights up small d...|2015-08-31 00:00:00|\n",
            "|         US|   50594486|R1M7YUNLZI0G9F|B0000DD4KV|     506501960|IRWIN Tools Metri...|           Tools|          5|            1|          1|   N|                Y|          Five Stars|Great product for...|2015-08-31 00:00:00|\n",
            "|         US|   21945887|R2MTL2D4E4HEF4|B0009H5FB8|     268586246|743022-A Backing ...|           Tools|          5|            0|          0|   N|                Y|          Five Stars|Many thanks for t...|2015-08-31 00:00:00|\n",
            "|         US|   47749608| RXAHWIC1584UQ|B00NKSMPZW|     824618679|ClearArmor 141001...|           Tools|          5|           20|         23|   N|                Y|          Five Stars|geart product :) ...|2015-08-31 00:00:00|\n",
            "|         US|   48880662| RMOIQFERVQDWS|B00RBAB92K|     156791442|KKmoon 9cm Mini A...|           Tools|          5|            0|          0|   N|                Y|          Five Stars|           very good|2015-08-31 00:00:00|\n",
            "|         US|    4660265| R710G45MKODY9|B00QGBNZVI|     962324810|Refun E6 High Pow...|           Tools|          2|            1|          1|   N|                Y|           Two Stars|Scratches on lenses.|2015-08-31 00:00:00|\n",
            "|         US|   18397238|R23ZIUGUM7TBMY|B00XXU3CDG|     543062309|Dr.meter S20 Mois...|           Tools|          1|            0|          1|   N|                Y|Don't waste your ...|It's a piece of $...|2015-08-31 00:00:00|\n",
            "+-----------+-----------+--------------+----------+--------------+--------------------+----------------+-----------+-------------+-----------+----+-----------------+--------------------+--------------------+-------------------+\n",
            "only showing top 20 rows\n",
            "\n"
          ]
        }
      ]
    },
    {
      "cell_type": "code",
      "source": [
        "from pyspark.sql.functions import to_date\n",
        "# Read in the Review dataset as a DataFrame"
      ],
      "metadata": {
        "id": "Au8uZqbWvmBl"
      },
      "execution_count": 5,
      "outputs": []
    },
    {
      "cell_type": "code",
      "source": [
        "# Create the vine_table. DataFrame\n",
        "from pyspark.sql.functions import col\n",
        "vine_df = df.select([\"review_id\",\"star_rating\",\"helpful_votes\",\"total_votes\",\"vine\",\"verified_purchase\"]).withColumn(\"star_rating\",col(\"star_rating\").cast(\"int\"))\n",
        "vine_df.show()"
      ],
      "metadata": {
        "colab": {
          "base_uri": "https://localhost:8080/"
        },
        "id": "c7_erIXVvp32",
        "outputId": "4bd1051d-63f4-48b8-97ed-169d2ecccb21"
      },
      "execution_count": 6,
      "outputs": [
        {
          "output_type": "stream",
          "name": "stdout",
          "text": [
            "+--------------+-----------+-------------+-----------+----+-----------------+\n",
            "|     review_id|star_rating|helpful_votes|total_votes|vine|verified_purchase|\n",
            "+--------------+-----------+-------------+-----------+----+-----------------+\n",
            "|R2UM5QMHBHC90Q|          5|            0|          0|   N|                Y|\n",
            "|  RF0D1LEIF6L7|          4|            0|          0|   N|                Y|\n",
            "|  RM6YKIWQVNSY|          1|            6|          6|   N|                Y|\n",
            "|R1RL3L68ASPS36|          4|            0|          0|   N|                Y|\n",
            "|R1U4XFBFAG34CY|          5|            0|          0|   N|                Y|\n",
            "|R3KFIK8P0I91PL|          5|            0|          0|   N|                Y|\n",
            "| RENOAY76PPK1O|          5|            0|          0|   N|                Y|\n",
            "| RINV884I0NL5V|          1|            0|          0|   N|                Y|\n",
            "| R5KJH6CXZH2PX|          5|            0|          0|   N|                Y|\n",
            "| RO69JF6QWD0W1|          5|            0|          0|   N|                Y|\n",
            "|R3L9NQBH3FI55C|          4|            1|          1|   N|                Y|\n",
            "| R4YH95YPHVU0C|          5|            0|          0|   N|                Y|\n",
            "|R10M1WWDDQBGG2|          2|            0|          0|   N|                Y|\n",
            "| RV3KWQBTNIO62|          5|            1|          1|   N|                Y|\n",
            "|R1M7YUNLZI0G9F|          5|            1|          1|   N|                Y|\n",
            "|R2MTL2D4E4HEF4|          5|            0|          0|   N|                Y|\n",
            "| RXAHWIC1584UQ|          5|           20|         23|   N|                Y|\n",
            "| RMOIQFERVQDWS|          5|            0|          0|   N|                Y|\n",
            "| R710G45MKODY9|          2|            1|          1|   N|                Y|\n",
            "|R23ZIUGUM7TBMY|          1|            0|          1|   N|                Y|\n",
            "+--------------+-----------+-------------+-----------+----+-----------------+\n",
            "only showing top 20 rows\n",
            "\n"
          ]
        }
      ]
    },
    {
      "cell_type": "code",
      "source": [
        "#Filter the data and create a new DataFrame or table to retrieve all the rows where the total_votes count is equal to or greater than 20 to pick reviews that are more likely to be helpful and to avoid having division by zero errors later on.\n",
        "total = vine_df.filter(\"total_votes >=20\")\n",
        "total.show()"
      ],
      "metadata": {
        "colab": {
          "base_uri": "https://localhost:8080/"
        },
        "id": "ODqjTR_PwpCs",
        "outputId": "c376c88b-4990-4e3c-e586-7fdcf3d77bd6"
      },
      "execution_count": 13,
      "outputs": [
        {
          "output_type": "stream",
          "name": "stdout",
          "text": [
            "+--------------+-----------+-------------+-----------+----+-----------------+\n",
            "|     review_id|star_rating|helpful_votes|total_votes|vine|verified_purchase|\n",
            "+--------------+-----------+-------------+-----------+----+-----------------+\n",
            "| RXAHWIC1584UQ|          5|           20|         23|   N|                Y|\n",
            "| RSBELAIC899DO|          5|           46|         51|   N|                Y|\n",
            "|R2HCC4CJ59D225|          4|           43|         43|   N|                Y|\n",
            "|R39BVCCVPRV6F5|          5|           10|         22|   N|                Y|\n",
            "| RL9VF9WXHEHKR|          5|           35|         36|   N|                Y|\n",
            "|R1ZINLWUOLTZ46|          1|           39|         45|   N|                N|\n",
            "|R1CQKM1K1CHOHS|          1|           21|         22|   N|                N|\n",
            "|R1ZG19X1NOLCRF|          5|            5|         21|   N|                Y|\n",
            "|R1YOX5Z4GF3ZSW|          1|            1|         22|   N|                Y|\n",
            "| R2DHAM7J1KMWN|          5|           23|         24|   N|                N|\n",
            "|R2KOLBXPW57WC3|          1|            4|         38|   N|                N|\n",
            "|R26EZ2INBETPU2|          1|          103|        128|   N|                N|\n",
            "|R265ZMDO2ISN1O|          5|           20|         21|   N|                Y|\n",
            "|R3NZ7JTOCPYE1S|          4|           32|         33|   N|                Y|\n",
            "|R3HQQ725T45NCH|          3|            9|         21|   N|                Y|\n",
            "|R15JJ5AGVSB71T|          5|           33|         33|   N|                Y|\n",
            "|R28WDBNT2XRACG|          1|           19|         24|   N|                Y|\n",
            "|R3HP224QDFQ2SN|          5|           21|         22|   N|                Y|\n",
            "| RTURVI4KNPMG1|          5|          146|        154|   N|                Y|\n",
            "| RH2BXZ337F38J|          5|           62|         66|   N|                Y|\n",
            "+--------------+-----------+-------------+-----------+----+-----------------+\n",
            "only showing top 20 rows\n",
            "\n"
          ]
        }
      ]
    },
    {
      "cell_type": "code",
      "source": [
        "#Filter the new DataFrame or table created in Step 1 and create a new DataFrame or table to retrieve all the rows where the number of helpful_votes divided by total_votes is equal to or greater than 50%.\n",
        "helpful_votes = total.filter(total[\"helpful_votes\"] / total[\"total_votes\"] >=.5)\n",
        "helpful_votes.show()"
      ],
      "metadata": {
        "colab": {
          "base_uri": "https://localhost:8080/"
        },
        "id": "PQtxf0g2xSpC",
        "outputId": "e040d055-c3f0-4cb5-f10c-be716341ee7c"
      },
      "execution_count": 15,
      "outputs": [
        {
          "output_type": "stream",
          "name": "stdout",
          "text": [
            "+--------------+-----------+-------------+-----------+----+-----------------+\n",
            "|     review_id|star_rating|helpful_votes|total_votes|vine|verified_purchase|\n",
            "+--------------+-----------+-------------+-----------+----+-----------------+\n",
            "| RXAHWIC1584UQ|          5|           20|         23|   N|                Y|\n",
            "| RSBELAIC899DO|          5|           46|         51|   N|                Y|\n",
            "|R2HCC4CJ59D225|          4|           43|         43|   N|                Y|\n",
            "| RL9VF9WXHEHKR|          5|           35|         36|   N|                Y|\n",
            "|R1ZINLWUOLTZ46|          1|           39|         45|   N|                N|\n",
            "|R1CQKM1K1CHOHS|          1|           21|         22|   N|                N|\n",
            "| R2DHAM7J1KMWN|          5|           23|         24|   N|                N|\n",
            "|R26EZ2INBETPU2|          1|          103|        128|   N|                N|\n",
            "|R265ZMDO2ISN1O|          5|           20|         21|   N|                Y|\n",
            "|R3NZ7JTOCPYE1S|          4|           32|         33|   N|                Y|\n",
            "|R15JJ5AGVSB71T|          5|           33|         33|   N|                Y|\n",
            "|R28WDBNT2XRACG|          1|           19|         24|   N|                Y|\n",
            "|R3HP224QDFQ2SN|          5|           21|         22|   N|                Y|\n",
            "| RTURVI4KNPMG1|          5|          146|        154|   N|                Y|\n",
            "| RH2BXZ337F38J|          5|           62|         66|   N|                Y|\n",
            "|R3G8L2NRMZZHPI|          4|           23|         23|   N|                Y|\n",
            "|R21Q3I2ZEDSMZK|          5|           80|         84|   N|                Y|\n",
            "|R16MXXKY0MRKZW|          1|           48|         52|   N|                Y|\n",
            "|R121P6RES3Z7WC|          1|          145|        162|   N|                Y|\n",
            "|R1ILUNGUCRZGF3|          5|           21|         21|   N|                Y|\n",
            "+--------------+-----------+-------------+-----------+----+-----------------+\n",
            "only showing top 20 rows\n",
            "\n"
          ]
        }
      ]
    },
    {
      "cell_type": "code",
      "source": [
        "#Filter the DataFrame or table created in Step 2, and create a new DataFrame or table that retrieves all the rows where a review was written as part of the Vine program (paid), vine == 'Y'\n",
        "vine_paid = helpful_votes.filter(helpful_votes[\"vine\"] == \"Y\")\n",
        "vine_paid.show()"
      ],
      "metadata": {
        "colab": {
          "base_uri": "https://localhost:8080/"
        },
        "id": "norLMB6ly7RS",
        "outputId": "04dadeda-af8e-4e96-b2c1-85c8da1fe556"
      },
      "execution_count": 17,
      "outputs": [
        {
          "output_type": "stream",
          "name": "stdout",
          "text": [
            "+--------------+-----------+-------------+-----------+----+-----------------+\n",
            "|     review_id|star_rating|helpful_votes|total_votes|vine|verified_purchase|\n",
            "+--------------+-----------+-------------+-----------+----+-----------------+\n",
            "|R3QIQRG107AP19|          5|           38|         41|   Y|                N|\n",
            "|R1ZNBHGCYE8VN1|          5|          175|        181|   Y|                N|\n",
            "|R1BNZJ9IKGRBC2|          4|           63|         70|   Y|                N|\n",
            "|R2IXTN4PBRHBO2|          5|           19|         24|   Y|                N|\n",
            "|R32AOW3L09SYMQ|          5|           29|         34|   Y|                N|\n",
            "|R34Z4VTLF7PC6X|          4|           33|         36|   Y|                N|\n",
            "|R25403NE9JCRZZ|          2|           36|         40|   Y|                N|\n",
            "|R2QT2G3YRGC0PS|          5|           18|         20|   Y|                N|\n",
            "| RDUP15OURNUSA|          5|           22|         23|   Y|                N|\n",
            "|R1EI4NZTG7G14F|          5|           17|         23|   Y|                N|\n",
            "|R2G0YB0MC67NLG|          5|           29|         38|   Y|                N|\n",
            "| RGA1PHAE93JR2|          1|           16|         21|   Y|                N|\n",
            "|R1QS5MKSKOGG0U|          5|           15|         20|   Y|                N|\n",
            "|R3MVW880K2V5BK|          3|           37|         46|   Y|                N|\n",
            "|R11JKXPSMHSZY1|          4|           21|         28|   Y|                N|\n",
            "|  RSPSTXGY3OD8|          5|           29|         33|   Y|                N|\n",
            "| RQO0NNMNWRLB4|          3|           47|         54|   Y|                N|\n",
            "|R3H5BSP5KCFHBG|          4|           19|         21|   Y|                N|\n",
            "|R2AIJIWME1WDKN|          5|           16|         24|   Y|                N|\n",
            "| R585MGH89JZZ5|          5|           27|         34|   Y|                N|\n",
            "+--------------+-----------+-------------+-----------+----+-----------------+\n",
            "only showing top 20 rows\n",
            "\n"
          ]
        }
      ]
    },
    {
      "cell_type": "code",
      "source": [
        "#Repeat Step 3, but this time retrieve all the rows where the review was not part of the Vine program (unpaid), vine == 'N'\n",
        "vine_unpaid = helpful_votes.filter(helpful_votes[\"vine\"] == \"N\")\n",
        "vine_unpaid.show()"
      ],
      "metadata": {
        "colab": {
          "base_uri": "https://localhost:8080/"
        },
        "id": "niHOmTzgzal_",
        "outputId": "133555fe-7c6d-412c-ff14-310cd71caced"
      },
      "execution_count": 18,
      "outputs": [
        {
          "output_type": "stream",
          "name": "stdout",
          "text": [
            "+--------------+-----------+-------------+-----------+----+-----------------+\n",
            "|     review_id|star_rating|helpful_votes|total_votes|vine|verified_purchase|\n",
            "+--------------+-----------+-------------+-----------+----+-----------------+\n",
            "| RXAHWIC1584UQ|          5|           20|         23|   N|                Y|\n",
            "| RSBELAIC899DO|          5|           46|         51|   N|                Y|\n",
            "|R2HCC4CJ59D225|          4|           43|         43|   N|                Y|\n",
            "| RL9VF9WXHEHKR|          5|           35|         36|   N|                Y|\n",
            "|R1ZINLWUOLTZ46|          1|           39|         45|   N|                N|\n",
            "|R1CQKM1K1CHOHS|          1|           21|         22|   N|                N|\n",
            "| R2DHAM7J1KMWN|          5|           23|         24|   N|                N|\n",
            "|R26EZ2INBETPU2|          1|          103|        128|   N|                N|\n",
            "|R265ZMDO2ISN1O|          5|           20|         21|   N|                Y|\n",
            "|R3NZ7JTOCPYE1S|          4|           32|         33|   N|                Y|\n",
            "|R15JJ5AGVSB71T|          5|           33|         33|   N|                Y|\n",
            "|R28WDBNT2XRACG|          1|           19|         24|   N|                Y|\n",
            "|R3HP224QDFQ2SN|          5|           21|         22|   N|                Y|\n",
            "| RTURVI4KNPMG1|          5|          146|        154|   N|                Y|\n",
            "| RH2BXZ337F38J|          5|           62|         66|   N|                Y|\n",
            "|R3G8L2NRMZZHPI|          4|           23|         23|   N|                Y|\n",
            "|R21Q3I2ZEDSMZK|          5|           80|         84|   N|                Y|\n",
            "|R16MXXKY0MRKZW|          1|           48|         52|   N|                Y|\n",
            "|R121P6RES3Z7WC|          1|          145|        162|   N|                Y|\n",
            "|R1ILUNGUCRZGF3|          5|           21|         21|   N|                Y|\n",
            "+--------------+-----------+-------------+-----------+----+-----------------+\n",
            "only showing top 20 rows\n",
            "\n"
          ]
        }
      ]
    },
    {
      "cell_type": "code",
      "source": [
        "#Paid total reviews\n",
        "paid = vine_paid.count()\n",
        "print(\"Total number of paid reviews: %d\" % paid)"
      ],
      "metadata": {
        "colab": {
          "base_uri": "https://localhost:8080/"
        },
        "id": "37NLY_1Qz1ie",
        "outputId": "a45d01d7-a123-4f24-a638-973082eebe06"
      },
      "execution_count": 27,
      "outputs": [
        {
          "output_type": "stream",
          "name": "stdout",
          "text": [
            "Total number of paid reviews: 285\n"
          ]
        }
      ]
    },
    {
      "cell_type": "code",
      "source": [
        "#Unpaid total reviews\n",
        "unpaid = vine_unpaid.count()\n",
        "print(\"Total number of unpaid reviews: %d\" % unpaid)"
      ],
      "metadata": {
        "colab": {
          "base_uri": "https://localhost:8080/"
        },
        "id": "RVwYK1ok0YVk",
        "outputId": "199b8691-aa8c-4531-d254-7d9d53c0ff80"
      },
      "execution_count": 28,
      "outputs": [
        {
          "output_type": "stream",
          "name": "stdout",
          "text": [
            "Total number of unpaid reviews: 31545\n"
          ]
        }
      ]
    },
    {
      "cell_type": "code",
      "source": [
        "#Number of reviews that gave 5 stars and were paid.\n",
        "star_paid = vine_paid.filter(vine_paid[\"star_rating\"] == 5)\n",
        "paid_5 = star_paid.count()\n",
        "print(\"Total number of 5 star paid reviews: %d\" % paid_5)"
      ],
      "metadata": {
        "colab": {
          "base_uri": "https://localhost:8080/"
        },
        "id": "ZmDLenO307Fs",
        "outputId": "ea549c05-2177-4bde-c447-f1d6b7dd58e8"
      },
      "execution_count": 29,
      "outputs": [
        {
          "output_type": "stream",
          "name": "stdout",
          "text": [
            "Total number of 5 star paid reviews: 163\n"
          ]
        }
      ]
    },
    {
      "cell_type": "code",
      "source": [
        "#Number of reviews that gave 5 stars and were unpaid.\n",
        "star_unpaid = vine_unpaid.filter(vine_unpaid[\"star_rating\"] == 5)\n",
        "unpaid_5 = star_unpaid.count()\n",
        "print(\"Total number of 5 star unpaid reviews: %d\" % unpaid_5)"
      ],
      "metadata": {
        "colab": {
          "base_uri": "https://localhost:8080/"
        },
        "id": "RmYnSAZ01dvK",
        "outputId": "a3d7bd2f-ec55-4a52-8f44-46a1d4451b5d"
      },
      "execution_count": 34,
      "outputs": [
        {
          "output_type": "stream",
          "name": "stdout",
          "text": [
            "Total number of 5 star unpaid reviews: 14614\n"
          ]
        }
      ]
    },
    {
      "cell_type": "code",
      "source": [
        "#Percentage of five star reviews from paid users\n",
        "percentage = (star_paid.count() / vine_paid.count())*100\n",
        "print(\"Percentage of 5 star paid reviews: %d\" % percentage)"
      ],
      "metadata": {
        "colab": {
          "base_uri": "https://localhost:8080/"
        },
        "id": "rnDxBjzY16uG",
        "outputId": "febb0971-d272-4d55-d182-7f4efcaa508c"
      },
      "execution_count": 39,
      "outputs": [
        {
          "output_type": "stream",
          "name": "stdout",
          "text": [
            "Percentage of 5 star paid reviews: 57\n"
          ]
        }
      ]
    },
    {
      "cell_type": "code",
      "source": [
        "#Percentage of five star reviews from unpaid users\n",
        "percent = (star_unpaid.count() / vine_unpaid.count())*100\n",
        "print(\"Percentage of 5 star unpaid reviews: %d\" % percent)"
      ],
      "metadata": {
        "colab": {
          "base_uri": "https://localhost:8080/"
        },
        "id": "-uLyH3Vc2Pua",
        "outputId": "5f17a2ab-4f2a-44e0-ec4a-54ac1b626da1"
      },
      "execution_count": 38,
      "outputs": [
        {
          "output_type": "stream",
          "name": "stdout",
          "text": [
            "Percentage of 5 star unpaid reviews: 46\n"
          ]
        }
      ]
    }
  ]
}